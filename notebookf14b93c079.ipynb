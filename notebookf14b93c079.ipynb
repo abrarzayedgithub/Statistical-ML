{
  "metadata": {
    "kernelspec": {
      "language": "python",
      "display_name": "Python 3",
      "name": "python3"
    },
    "language_info": {
      "name": "python",
      "version": "3.11.11",
      "mimetype": "text/x-python",
      "codemirror_mode": {
        "name": "ipython",
        "version": 3
      },
      "pygments_lexer": "ipython3",
      "nbconvert_exporter": "python",
      "file_extension": ".py"
    },
    "kaggle": {
      "accelerator": "none",
      "dataSources": [
        {
          "sourceId": 11804706,
          "sourceType": "datasetVersion",
          "datasetId": 7413410
        }
      ],
      "isInternetEnabled": false,
      "language": "python",
      "sourceType": "notebook",
      "isGpuEnabled": false
    },
    "colab": {
      "name": "notebookf14b93c079",
      "provenance": [],
      "include_colab_link": true
    }
  },
  "nbformat_minor": 0,
  "nbformat": 4,
  "cells": [
    {
      "cell_type": "markdown",
      "metadata": {
        "id": "view-in-github",
        "colab_type": "text"
      },
      "source": [
        "<a href=\"https://colab.research.google.com/github/abrarzayedgithub/Statistical-ML/blob/main/notebookf14b93c079.ipynb\" target=\"_parent\"><img src=\"https://colab.research.google.com/assets/colab-badge.svg\" alt=\"Open In Colab\"/></a>"
      ]
    },
    {
      "source": [
        "\n"
      ],
      "metadata": {
        "id": "h8Xd4Heg-gG6"
      },
      "cell_type": "code",
      "outputs": [],
      "execution_count": null
    },
    {
      "source": [
        "\n"
      ],
      "metadata": {
        "id": "IRiC5QQU-gG9"
      },
      "cell_type": "code",
      "outputs": [],
      "execution_count": null
    },
    {
      "cell_type": "code",
      "source": [
        "import numpy as np\n",
        "import pandas as pd\n",
        "import random"
      ],
      "metadata": {
        "_uuid": "8f2839f25d086af736a60e9eeb907d3b93b6e0e5",
        "_cell_guid": "b1076dfc-b9ad-4769-8c92-a6c4dae69d19",
        "trusted": true,
        "execution": {
          "iopub.status.busy": "2025-05-15T15:19:26.851509Z",
          "iopub.execute_input": "2025-05-15T15:19:26.851711Z",
          "iopub.status.idle": "2025-05-15T15:19:28.840686Z",
          "shell.execute_reply.started": "2025-05-15T15:19:26.851693Z",
          "shell.execute_reply": "2025-05-15T15:19:28.839673Z"
        },
        "id": "PIaJFYQS-gG9"
      },
      "outputs": [],
      "execution_count": null
    },
    {
      "cell_type": "code",
      "source": [
        "dataset = pd.read_csv(\"/kaggle/input/sampling/Behavioral Analytics and Event Frequency.csv\")\n"
      ],
      "metadata": {
        "trusted": true,
        "execution": {
          "iopub.status.busy": "2025-05-15T15:19:28.842571Z",
          "iopub.execute_input": "2025-05-15T15:19:28.842942Z",
          "iopub.status.idle": "2025-05-15T15:19:28.949677Z",
          "shell.execute_reply.started": "2025-05-15T15:19:28.84292Z",
          "shell.execute_reply": "2025-05-15T15:19:28.948724Z"
        },
        "id": "mKy8dJBE-gG9"
      },
      "outputs": [],
      "execution_count": null
    },
    {
      "cell_type": "code",
      "source": [
        "N = len(dataset) #population\n",
        "print(\"Total dataset population:\", N)\n",
        "n = 100"
      ],
      "metadata": {
        "trusted": true,
        "execution": {
          "iopub.status.busy": "2025-05-15T15:19:28.950722Z",
          "iopub.execute_input": "2025-05-15T15:19:28.951068Z",
          "iopub.status.idle": "2025-05-15T15:19:28.956439Z",
          "shell.execute_reply.started": "2025-05-15T15:19:28.951029Z",
          "shell.execute_reply": "2025-05-15T15:19:28.955463Z"
        },
        "id": "1JJsKLNR-gG-"
      },
      "outputs": [],
      "execution_count": null
    },
    {
      "cell_type": "code",
      "source": [
        "simple_random_sampling = dataset.sample(n=n,random_state = 42)\n",
        "print(\"type of the sample is :\",type(simple_random_sampling))\n",
        "print(\"simple random sampling:\", simple_random_sampling)"
      ],
      "metadata": {
        "trusted": true,
        "execution": {
          "iopub.status.busy": "2025-05-15T15:19:28.957334Z",
          "iopub.execute_input": "2025-05-15T15:19:28.957884Z",
          "iopub.status.idle": "2025-05-15T15:19:29.001734Z",
          "shell.execute_reply.started": "2025-05-15T15:19:28.957845Z",
          "shell.execute_reply": "2025-05-15T15:19:29.000828Z"
        },
        "id": "jrP4_lDp-gG-"
      },
      "outputs": [],
      "execution_count": null
    },
    {
      "cell_type": "code",
      "source": [
        "print(\"len of simple random sampling:\",len(simple_random_sampling))"
      ],
      "metadata": {
        "trusted": true,
        "execution": {
          "iopub.status.busy": "2025-05-15T15:19:29.00297Z",
          "iopub.execute_input": "2025-05-15T15:19:29.003279Z",
          "iopub.status.idle": "2025-05-15T15:19:29.007951Z",
          "shell.execute_reply.started": "2025-05-15T15:19:29.003257Z",
          "shell.execute_reply": "2025-05-15T15:19:29.007113Z"
        },
        "id": "h-dymXX1-gG-"
      },
      "outputs": [],
      "execution_count": null
    },
    {
      "cell_type": "code",
      "source": [
        "print(simple_random_sampling.index.tolist())\n"
      ],
      "metadata": {
        "trusted": true,
        "execution": {
          "iopub.status.busy": "2025-05-15T15:19:29.00882Z",
          "iopub.execute_input": "2025-05-15T15:19:29.009241Z",
          "iopub.status.idle": "2025-05-15T15:19:29.023965Z",
          "shell.execute_reply.started": "2025-05-15T15:19:29.009213Z",
          "shell.execute_reply": "2025-05-15T15:19:29.022954Z"
        },
        "id": "HmHRL4Kt-gG-"
      },
      "outputs": [],
      "execution_count": null
    },
    {
      "cell_type": "code",
      "source": [
        "inclusionProbability = n/N\n",
        "print(\"inclusion probability for sample random sampling:\", inclusionProbability)\n",
        "simple_random_sampling[\"inclusionProbability\"] = inclusionProbability\n",
        "simple_random_sampling.head()"
      ],
      "metadata": {
        "trusted": true,
        "execution": {
          "iopub.status.busy": "2025-05-15T15:19:29.026223Z",
          "iopub.execute_input": "2025-05-15T15:19:29.026544Z",
          "iopub.status.idle": "2025-05-15T15:19:29.102436Z",
          "shell.execute_reply.started": "2025-05-15T15:19:29.026515Z",
          "shell.execute_reply": "2025-05-15T15:19:29.101395Z"
        },
        "id": "G4E16aSz-gG_"
      },
      "outputs": [],
      "execution_count": null
    },
    {
      "cell_type": "code",
      "source": [
        "def sysSampling(dataset, n=100):\n",
        "    N = len(dataset)\n",
        "    k = N//n\n",
        "    starting = np.random.randint(0,k)\n",
        "    dataIndex = list(range(starting,starting+k*n,k))[:n]\n",
        "    return dataset.iloc[dataIndex]\n",
        "\n",
        "sysSampling(dataset)\n",
        "\n"
      ],
      "metadata": {
        "trusted": true,
        "execution": {
          "iopub.status.busy": "2025-05-15T15:19:29.10329Z",
          "iopub.execute_input": "2025-05-15T15:19:29.103543Z",
          "iopub.status.idle": "2025-05-15T15:19:29.156404Z",
          "shell.execute_reply.started": "2025-05-15T15:19:29.103521Z",
          "shell.execute_reply": "2025-05-15T15:19:29.154569Z"
        },
        "id": "EBikphB4-gG_"
      },
      "outputs": [],
      "execution_count": null
    },
    {
      "cell_type": "markdown",
      "source": [
        "stratified random sampling\n"
      ],
      "metadata": {
        "id": "E8ayKCyM-gG_"
      }
    },
    {
      "cell_type": "code",
      "source": [
        "stratified_sample,_ = train_test_split(dataset,train_size=0.3,stratify=dataset[\"Customer_Click_Binary\"],random_state=42)\n",
        "print(stratified_sample.head())"
      ],
      "metadata": {
        "trusted": true,
        "execution": {
          "iopub.status.busy": "2025-05-15T15:19:29.158547Z",
          "iopub.execute_input": "2025-05-15T15:19:29.158919Z",
          "iopub.status.idle": "2025-05-15T15:19:29.276301Z",
          "shell.execute_reply.started": "2025-05-15T15:19:29.158888Z",
          "shell.execute_reply": "2025-05-15T15:19:29.274148Z"
        },
        "id": "Z_TViava-gHA"
      },
      "outputs": [],
      "execution_count": null
    }
  ]
}