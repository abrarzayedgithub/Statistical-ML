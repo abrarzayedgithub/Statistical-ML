{
 "cells": [
  {
   "cell_type": "code",
   "execution_count": 1,
   "id": "ee06f6a1",
   "metadata": {
    "_cell_guid": "b1076dfc-b9ad-4769-8c92-a6c4dae69d19",
    "_uuid": "8f2839f25d086af736a60e9eeb907d3b93b6e0e5",
    "execution": {
     "iopub.execute_input": "2025-06-22T05:19:09.652791Z",
     "iopub.status.busy": "2025-06-22T05:19:09.652056Z",
     "iopub.status.idle": "2025-06-22T05:19:11.595207Z",
     "shell.execute_reply": "2025-06-22T05:19:11.594533Z"
    },
    "papermill": {
     "duration": 1.949186,
     "end_time": "2025-06-22T05:19:11.596699",
     "exception": false,
     "start_time": "2025-06-22T05:19:09.647513",
     "status": "completed"
    },
    "tags": []
   },
   "outputs": [],
   "source": [
    "import pandas as pd\n",
    "datasets = pd.read_csv(\"/kaggle/input/abrarvai/Fish.csv\")\n"
   ]
  },
  {
   "cell_type": "code",
   "execution_count": 2,
   "id": "c2defea0",
   "metadata": {
    "execution": {
     "iopub.execute_input": "2025-06-22T05:19:11.603954Z",
     "iopub.status.busy": "2025-06-22T05:19:11.603594Z",
     "iopub.status.idle": "2025-06-22T05:19:13.225645Z",
     "shell.execute_reply": "2025-06-22T05:19:13.224755Z"
    },
    "papermill": {
     "duration": 1.627271,
     "end_time": "2025-06-22T05:19:13.227345",
     "exception": false,
     "start_time": "2025-06-22T05:19:11.600074",
     "status": "completed"
    },
    "tags": []
   },
   "outputs": [],
   "source": [
    "from sklearn.pipeline import make_pipeline\n",
    "from sklearn.preprocessing import PolynomialFeatures\n",
    "from sklearn.linear_model import Lasso, Ridge\n",
    "from sklearn.model_selection import train_test_split\n",
    "\n",
    "\n",
    "from sklearn.metrics import mean_squared_error, r2_score\n",
    "import matplotlib.pyplot as plt\n",
    "import pandas as pd\n",
    "import numpy as np\n",
    "\n",
    "import warnings\n",
    "warnings.filterwarnings(\"ignore\")"
   ]
  },
  {
   "cell_type": "code",
   "execution_count": 3,
   "id": "b2822e2f",
   "metadata": {
    "execution": {
     "iopub.execute_input": "2025-06-22T05:19:13.234383Z",
     "iopub.status.busy": "2025-06-22T05:19:13.233946Z",
     "iopub.status.idle": "2025-06-22T05:19:13.248691Z",
     "shell.execute_reply": "2025-06-22T05:19:13.247876Z"
    },
    "papermill": {
     "duration": 0.019976,
     "end_time": "2025-06-22T05:19:13.250223",
     "exception": false,
     "start_time": "2025-06-22T05:19:13.230247",
     "status": "completed"
    },
    "tags": []
   },
   "outputs": [],
   "source": [
    "x = datasets[[\"Length1\",\"Length2\",\"Length3\",\"Height\",\"Width\"]]\n",
    "y = datasets[\"Weight\"]"
   ]
  },
  {
   "cell_type": "code",
   "execution_count": 4,
   "id": "ac72ebf7",
   "metadata": {
    "execution": {
     "iopub.execute_input": "2025-06-22T05:19:13.256738Z",
     "iopub.status.busy": "2025-06-22T05:19:13.256440Z",
     "iopub.status.idle": "2025-06-22T05:19:13.265834Z",
     "shell.execute_reply": "2025-06-22T05:19:13.264886Z"
    },
    "papermill": {
     "duration": 0.014282,
     "end_time": "2025-06-22T05:19:13.267293",
     "exception": false,
     "start_time": "2025-06-22T05:19:13.253011",
     "status": "completed"
    },
    "tags": []
   },
   "outputs": [
    {
     "name": "stdout",
     "output_type": "stream",
     "text": [
      "(127, 5) (32, 5) (127,) (127,)\n"
     ]
    }
   ],
   "source": [
    "x_train,x_test, y_train, y_test = train_test_split(x,y,test_size = 0.2,random_state = 42)\n",
    "print(x_train.shape,x_test.shape, y_train.shape, y_train.shape)"
   ]
  },
  {
   "cell_type": "code",
   "execution_count": 5,
   "id": "0512b680",
   "metadata": {
    "execution": {
     "iopub.execute_input": "2025-06-22T05:19:13.273871Z",
     "iopub.status.busy": "2025-06-22T05:19:13.273559Z",
     "iopub.status.idle": "2025-06-22T05:19:13.325090Z",
     "shell.execute_reply": "2025-06-22T05:19:13.324193Z"
    },
    "papermill": {
     "duration": 0.056502,
     "end_time": "2025-06-22T05:19:13.326550",
     "exception": false,
     "start_time": "2025-06-22T05:19:13.270048",
     "status": "completed"
    },
    "tags": []
   },
   "outputs": [
    {
     "data": {
      "text/html": [
       "<style>#sk-container-id-1 {color: black;background-color: white;}#sk-container-id-1 pre{padding: 0;}#sk-container-id-1 div.sk-toggleable {background-color: white;}#sk-container-id-1 label.sk-toggleable__label {cursor: pointer;display: block;width: 100%;margin-bottom: 0;padding: 0.3em;box-sizing: border-box;text-align: center;}#sk-container-id-1 label.sk-toggleable__label-arrow:before {content: \"▸\";float: left;margin-right: 0.25em;color: #696969;}#sk-container-id-1 label.sk-toggleable__label-arrow:hover:before {color: black;}#sk-container-id-1 div.sk-estimator:hover label.sk-toggleable__label-arrow:before {color: black;}#sk-container-id-1 div.sk-toggleable__content {max-height: 0;max-width: 0;overflow: hidden;text-align: left;background-color: #f0f8ff;}#sk-container-id-1 div.sk-toggleable__content pre {margin: 0.2em;color: black;border-radius: 0.25em;background-color: #f0f8ff;}#sk-container-id-1 input.sk-toggleable__control:checked~div.sk-toggleable__content {max-height: 200px;max-width: 100%;overflow: auto;}#sk-container-id-1 input.sk-toggleable__control:checked~label.sk-toggleable__label-arrow:before {content: \"▾\";}#sk-container-id-1 div.sk-estimator input.sk-toggleable__control:checked~label.sk-toggleable__label {background-color: #d4ebff;}#sk-container-id-1 div.sk-label input.sk-toggleable__control:checked~label.sk-toggleable__label {background-color: #d4ebff;}#sk-container-id-1 input.sk-hidden--visually {border: 0;clip: rect(1px 1px 1px 1px);clip: rect(1px, 1px, 1px, 1px);height: 1px;margin: -1px;overflow: hidden;padding: 0;position: absolute;width: 1px;}#sk-container-id-1 div.sk-estimator {font-family: monospace;background-color: #f0f8ff;border: 1px dotted black;border-radius: 0.25em;box-sizing: border-box;margin-bottom: 0.5em;}#sk-container-id-1 div.sk-estimator:hover {background-color: #d4ebff;}#sk-container-id-1 div.sk-parallel-item::after {content: \"\";width: 100%;border-bottom: 1px solid gray;flex-grow: 1;}#sk-container-id-1 div.sk-label:hover label.sk-toggleable__label {background-color: #d4ebff;}#sk-container-id-1 div.sk-serial::before {content: \"\";position: absolute;border-left: 1px solid gray;box-sizing: border-box;top: 0;bottom: 0;left: 50%;z-index: 0;}#sk-container-id-1 div.sk-serial {display: flex;flex-direction: column;align-items: center;background-color: white;padding-right: 0.2em;padding-left: 0.2em;position: relative;}#sk-container-id-1 div.sk-item {position: relative;z-index: 1;}#sk-container-id-1 div.sk-parallel {display: flex;align-items: stretch;justify-content: center;background-color: white;position: relative;}#sk-container-id-1 div.sk-item::before, #sk-container-id-1 div.sk-parallel-item::before {content: \"\";position: absolute;border-left: 1px solid gray;box-sizing: border-box;top: 0;bottom: 0;left: 50%;z-index: -1;}#sk-container-id-1 div.sk-parallel-item {display: flex;flex-direction: column;z-index: 1;position: relative;background-color: white;}#sk-container-id-1 div.sk-parallel-item:first-child::after {align-self: flex-end;width: 50%;}#sk-container-id-1 div.sk-parallel-item:last-child::after {align-self: flex-start;width: 50%;}#sk-container-id-1 div.sk-parallel-item:only-child::after {width: 0;}#sk-container-id-1 div.sk-dashed-wrapped {border: 1px dashed gray;margin: 0 0.4em 0.5em 0.4em;box-sizing: border-box;padding-bottom: 0.4em;background-color: white;}#sk-container-id-1 div.sk-label label {font-family: monospace;font-weight: bold;display: inline-block;line-height: 1.2em;}#sk-container-id-1 div.sk-label-container {text-align: center;}#sk-container-id-1 div.sk-container {/* jupyter's `normalize.less` sets `[hidden] { display: none; }` but bootstrap.min.css set `[hidden] { display: none !important; }` so we also need the `!important` here to be able to override the default hidden behavior on the sphinx rendered scikit-learn.org. See: https://github.com/scikit-learn/scikit-learn/issues/21755 */display: inline-block !important;position: relative;}#sk-container-id-1 div.sk-text-repr-fallback {display: none;}</style><div id=\"sk-container-id-1\" class=\"sk-top-container\"><div class=\"sk-text-repr-fallback\"><pre>Pipeline(steps=[(&#x27;polynomialfeatures&#x27;, PolynomialFeatures()),\n",
       "                (&#x27;ridge&#x27;, Ridge())])</pre><b>In a Jupyter environment, please rerun this cell to show the HTML representation or trust the notebook. <br />On GitHub, the HTML representation is unable to render, please try loading this page with nbviewer.org.</b></div><div class=\"sk-container\" hidden><div class=\"sk-item sk-dashed-wrapped\"><div class=\"sk-label-container\"><div class=\"sk-label sk-toggleable\"><input class=\"sk-toggleable__control sk-hidden--visually\" id=\"sk-estimator-id-1\" type=\"checkbox\" ><label for=\"sk-estimator-id-1\" class=\"sk-toggleable__label sk-toggleable__label-arrow\">Pipeline</label><div class=\"sk-toggleable__content\"><pre>Pipeline(steps=[(&#x27;polynomialfeatures&#x27;, PolynomialFeatures()),\n",
       "                (&#x27;ridge&#x27;, Ridge())])</pre></div></div></div><div class=\"sk-serial\"><div class=\"sk-item\"><div class=\"sk-estimator sk-toggleable\"><input class=\"sk-toggleable__control sk-hidden--visually\" id=\"sk-estimator-id-2\" type=\"checkbox\" ><label for=\"sk-estimator-id-2\" class=\"sk-toggleable__label sk-toggleable__label-arrow\">PolynomialFeatures</label><div class=\"sk-toggleable__content\"><pre>PolynomialFeatures()</pre></div></div></div><div class=\"sk-item\"><div class=\"sk-estimator sk-toggleable\"><input class=\"sk-toggleable__control sk-hidden--visually\" id=\"sk-estimator-id-3\" type=\"checkbox\" ><label for=\"sk-estimator-id-3\" class=\"sk-toggleable__label sk-toggleable__label-arrow\">Ridge</label><div class=\"sk-toggleable__content\"><pre>Ridge()</pre></div></div></div></div></div></div></div>"
      ],
      "text/plain": [
       "Pipeline(steps=[('polynomialfeatures', PolynomialFeatures()),\n",
       "                ('ridge', Ridge())])"
      ]
     },
     "execution_count": 5,
     "metadata": {},
     "output_type": "execute_result"
    }
   ],
   "source": [
    "degree_of_freedom = 2\n",
    "\n",
    "ridge = make_pipeline(PolynomialFeatures(degree_of_freedom),Ridge(alpha= 1.0))\n",
    "ridge.fit(x_train,y_train)"
   ]
  },
  {
   "cell_type": "code",
   "execution_count": 6,
   "id": "ed38c60f",
   "metadata": {
    "execution": {
     "iopub.execute_input": "2025-06-22T05:19:13.333696Z",
     "iopub.status.busy": "2025-06-22T05:19:13.333419Z",
     "iopub.status.idle": "2025-06-22T05:19:13.340174Z",
     "shell.execute_reply": "2025-06-22T05:19:13.339186Z"
    },
    "papermill": {
     "duration": 0.011696,
     "end_time": "2025-06-22T05:19:13.341470",
     "exception": false,
     "start_time": "2025-06-22T05:19:13.329774",
     "status": "completed"
    },
    "tags": []
   },
   "outputs": [
    {
     "name": "stdout",
     "output_type": "stream",
     "text": [
      "[ 9.47909562e+01 -7.60183486e-01  2.27496318e+02  2.56202569e+02\n",
      "  1.05724070e+02  8.23102820e+02  1.86700655e+00  1.70985247e+02\n",
      "  1.87672298e+02  1.36183326e+03  6.27981763e+02  8.17088537e+02\n",
      "  5.67946618e+02  1.43367968e+02  6.60959411e+02  8.66744144e+02\n",
      "  1.13087669e+03  1.87222871e+02  1.84888244e+02  5.72219868e+02\n",
      " -3.43996264e+00  5.71772227e+02  4.52871057e+02  4.81391171e+02\n",
      "  8.65586574e+02  1.01487026e+03  1.49847374e+02  2.55980289e+02\n",
      "  1.56518157e+01 -3.29926322e+00  4.58982487e+02  6.53528918e+01]\n"
     ]
    }
   ],
   "source": [
    "prediction_result_ridge = ridge.predict(x_test)\n",
    "print(prediction_result_ridge)"
   ]
  },
  {
   "cell_type": "code",
   "execution_count": 7,
   "id": "d75c61bb",
   "metadata": {
    "execution": {
     "iopub.execute_input": "2025-06-22T05:19:13.349024Z",
     "iopub.status.busy": "2025-06-22T05:19:13.348335Z",
     "iopub.status.idle": "2025-06-22T05:19:13.367141Z",
     "shell.execute_reply": "2025-06-22T05:19:13.366196Z"
    },
    "papermill": {
     "duration": 0.023883,
     "end_time": "2025-06-22T05:19:13.368583",
     "exception": false,
     "start_time": "2025-06-22T05:19:13.344700",
     "status": "completed"
    },
    "tags": []
   },
   "outputs": [
    {
     "data": {
      "text/html": [
       "<style>#sk-container-id-2 {color: black;background-color: white;}#sk-container-id-2 pre{padding: 0;}#sk-container-id-2 div.sk-toggleable {background-color: white;}#sk-container-id-2 label.sk-toggleable__label {cursor: pointer;display: block;width: 100%;margin-bottom: 0;padding: 0.3em;box-sizing: border-box;text-align: center;}#sk-container-id-2 label.sk-toggleable__label-arrow:before {content: \"▸\";float: left;margin-right: 0.25em;color: #696969;}#sk-container-id-2 label.sk-toggleable__label-arrow:hover:before {color: black;}#sk-container-id-2 div.sk-estimator:hover label.sk-toggleable__label-arrow:before {color: black;}#sk-container-id-2 div.sk-toggleable__content {max-height: 0;max-width: 0;overflow: hidden;text-align: left;background-color: #f0f8ff;}#sk-container-id-2 div.sk-toggleable__content pre {margin: 0.2em;color: black;border-radius: 0.25em;background-color: #f0f8ff;}#sk-container-id-2 input.sk-toggleable__control:checked~div.sk-toggleable__content {max-height: 200px;max-width: 100%;overflow: auto;}#sk-container-id-2 input.sk-toggleable__control:checked~label.sk-toggleable__label-arrow:before {content: \"▾\";}#sk-container-id-2 div.sk-estimator input.sk-toggleable__control:checked~label.sk-toggleable__label {background-color: #d4ebff;}#sk-container-id-2 div.sk-label input.sk-toggleable__control:checked~label.sk-toggleable__label {background-color: #d4ebff;}#sk-container-id-2 input.sk-hidden--visually {border: 0;clip: rect(1px 1px 1px 1px);clip: rect(1px, 1px, 1px, 1px);height: 1px;margin: -1px;overflow: hidden;padding: 0;position: absolute;width: 1px;}#sk-container-id-2 div.sk-estimator {font-family: monospace;background-color: #f0f8ff;border: 1px dotted black;border-radius: 0.25em;box-sizing: border-box;margin-bottom: 0.5em;}#sk-container-id-2 div.sk-estimator:hover {background-color: #d4ebff;}#sk-container-id-2 div.sk-parallel-item::after {content: \"\";width: 100%;border-bottom: 1px solid gray;flex-grow: 1;}#sk-container-id-2 div.sk-label:hover label.sk-toggleable__label {background-color: #d4ebff;}#sk-container-id-2 div.sk-serial::before {content: \"\";position: absolute;border-left: 1px solid gray;box-sizing: border-box;top: 0;bottom: 0;left: 50%;z-index: 0;}#sk-container-id-2 div.sk-serial {display: flex;flex-direction: column;align-items: center;background-color: white;padding-right: 0.2em;padding-left: 0.2em;position: relative;}#sk-container-id-2 div.sk-item {position: relative;z-index: 1;}#sk-container-id-2 div.sk-parallel {display: flex;align-items: stretch;justify-content: center;background-color: white;position: relative;}#sk-container-id-2 div.sk-item::before, #sk-container-id-2 div.sk-parallel-item::before {content: \"\";position: absolute;border-left: 1px solid gray;box-sizing: border-box;top: 0;bottom: 0;left: 50%;z-index: -1;}#sk-container-id-2 div.sk-parallel-item {display: flex;flex-direction: column;z-index: 1;position: relative;background-color: white;}#sk-container-id-2 div.sk-parallel-item:first-child::after {align-self: flex-end;width: 50%;}#sk-container-id-2 div.sk-parallel-item:last-child::after {align-self: flex-start;width: 50%;}#sk-container-id-2 div.sk-parallel-item:only-child::after {width: 0;}#sk-container-id-2 div.sk-dashed-wrapped {border: 1px dashed gray;margin: 0 0.4em 0.5em 0.4em;box-sizing: border-box;padding-bottom: 0.4em;background-color: white;}#sk-container-id-2 div.sk-label label {font-family: monospace;font-weight: bold;display: inline-block;line-height: 1.2em;}#sk-container-id-2 div.sk-label-container {text-align: center;}#sk-container-id-2 div.sk-container {/* jupyter's `normalize.less` sets `[hidden] { display: none; }` but bootstrap.min.css set `[hidden] { display: none !important; }` so we also need the `!important` here to be able to override the default hidden behavior on the sphinx rendered scikit-learn.org. See: https://github.com/scikit-learn/scikit-learn/issues/21755 */display: inline-block !important;position: relative;}#sk-container-id-2 div.sk-text-repr-fallback {display: none;}</style><div id=\"sk-container-id-2\" class=\"sk-top-container\"><div class=\"sk-text-repr-fallback\"><pre>Pipeline(steps=[(&#x27;polynomialfeatures&#x27;, PolynomialFeatures()),\n",
       "                (&#x27;lasso&#x27;, Lasso())])</pre><b>In a Jupyter environment, please rerun this cell to show the HTML representation or trust the notebook. <br />On GitHub, the HTML representation is unable to render, please try loading this page with nbviewer.org.</b></div><div class=\"sk-container\" hidden><div class=\"sk-item sk-dashed-wrapped\"><div class=\"sk-label-container\"><div class=\"sk-label sk-toggleable\"><input class=\"sk-toggleable__control sk-hidden--visually\" id=\"sk-estimator-id-4\" type=\"checkbox\" ><label for=\"sk-estimator-id-4\" class=\"sk-toggleable__label sk-toggleable__label-arrow\">Pipeline</label><div class=\"sk-toggleable__content\"><pre>Pipeline(steps=[(&#x27;polynomialfeatures&#x27;, PolynomialFeatures()),\n",
       "                (&#x27;lasso&#x27;, Lasso())])</pre></div></div></div><div class=\"sk-serial\"><div class=\"sk-item\"><div class=\"sk-estimator sk-toggleable\"><input class=\"sk-toggleable__control sk-hidden--visually\" id=\"sk-estimator-id-5\" type=\"checkbox\" ><label for=\"sk-estimator-id-5\" class=\"sk-toggleable__label sk-toggleable__label-arrow\">PolynomialFeatures</label><div class=\"sk-toggleable__content\"><pre>PolynomialFeatures()</pre></div></div></div><div class=\"sk-item\"><div class=\"sk-estimator sk-toggleable\"><input class=\"sk-toggleable__control sk-hidden--visually\" id=\"sk-estimator-id-6\" type=\"checkbox\" ><label for=\"sk-estimator-id-6\" class=\"sk-toggleable__label sk-toggleable__label-arrow\">Lasso</label><div class=\"sk-toggleable__content\"><pre>Lasso()</pre></div></div></div></div></div></div></div>"
      ],
      "text/plain": [
       "Pipeline(steps=[('polynomialfeatures', PolynomialFeatures()),\n",
       "                ('lasso', Lasso())])"
      ]
     },
     "execution_count": 7,
     "metadata": {},
     "output_type": "execute_result"
    }
   ],
   "source": [
    "lasso = make_pipeline(PolynomialFeatures(degree_of_freedom),Lasso(alpha = 1.0))\n",
    "lasso.fit(x_train,y_train)"
   ]
  },
  {
   "cell_type": "code",
   "execution_count": 8,
   "id": "a0898434",
   "metadata": {
    "execution": {
     "iopub.execute_input": "2025-06-22T05:19:13.376620Z",
     "iopub.status.busy": "2025-06-22T05:19:13.375966Z",
     "iopub.status.idle": "2025-06-22T05:19:13.382859Z",
     "shell.execute_reply": "2025-06-22T05:19:13.381961Z"
    },
    "papermill": {
     "duration": 0.012501,
     "end_time": "2025-06-22T05:19:13.384395",
     "exception": false,
     "start_time": "2025-06-22T05:19:13.371894",
     "status": "completed"
    },
    "tags": []
   },
   "outputs": [
    {
     "name": "stdout",
     "output_type": "stream",
     "text": [
      "[  83.97645283    6.93423807  185.88665907  238.3342485   100.54839708\n",
      "  891.07434157   13.80349943  177.86976698  183.69841893 1347.10598649\n",
      "  624.19050147  824.65440192  588.50437337  152.58743935  658.28923942\n",
      "  875.50189516 1119.47638164  213.98471176  170.99689395  562.68085037\n",
      "    7.16600467  567.82786304  417.69264815  471.30562811  875.08618488\n",
      " 1025.28342829  140.17705077  235.12102949   24.38375624    6.07993847\n",
      "  512.60366066   63.51843364]\n"
     ]
    }
   ],
   "source": [
    "prediction_result_lasso = lasso.predict(x_test)\n",
    "print(prediction_result_lasso)\n"
   ]
  },
  {
   "cell_type": "code",
   "execution_count": 9,
   "id": "1a70763c",
   "metadata": {
    "execution": {
     "iopub.execute_input": "2025-06-22T05:19:13.392393Z",
     "iopub.status.busy": "2025-06-22T05:19:13.391877Z",
     "iopub.status.idle": "2025-06-22T05:19:13.398262Z",
     "shell.execute_reply": "2025-06-22T05:19:13.397653Z"
    },
    "papermill": {
     "duration": 0.011812,
     "end_time": "2025-06-22T05:19:13.399537",
     "exception": false,
     "start_time": "2025-06-22T05:19:13.387725",
     "status": "completed"
    },
    "tags": []
   },
   "outputs": [],
   "source": [
    "ridge_mean_squared_error = mean_squared_error(y_test, prediction_result_ridge,squared = False)\n",
    "ridge_r2 = r2_score(y_test, prediction_result_ridge)\n",
    "lasso_mean_squared_error = mean_squared_error(y_test,prediction_result_lasso, squared = False)\n",
    "lasso_r2 = r2_score(y_test,prediction_result_lasso)"
   ]
  },
  {
   "cell_type": "code",
   "execution_count": 10,
   "id": "a55fae27",
   "metadata": {
    "execution": {
     "iopub.execute_input": "2025-06-22T05:19:13.407139Z",
     "iopub.status.busy": "2025-06-22T05:19:13.406448Z",
     "iopub.status.idle": "2025-06-22T05:19:13.410945Z",
     "shell.execute_reply": "2025-06-22T05:19:13.410141Z"
    },
    "papermill": {
     "duration": 0.009505,
     "end_time": "2025-06-22T05:19:13.412216",
     "exception": false,
     "start_time": "2025-06-22T05:19:13.402711",
     "status": "completed"
    },
    "tags": []
   },
   "outputs": [
    {
     "name": "stdout",
     "output_type": "stream",
     "text": [
      "67.4570984574017\n",
      "61.303126790443564\n"
     ]
    }
   ],
   "source": [
    "print(ridge_mean_squared_error)\n",
    "print(lasso_mean_squared_error)\n"
   ]
  },
  {
   "cell_type": "code",
   "execution_count": 11,
   "id": "18629a94",
   "metadata": {
    "execution": {
     "iopub.execute_input": "2025-06-22T05:19:13.419801Z",
     "iopub.status.busy": "2025-06-22T05:19:13.419193Z",
     "iopub.status.idle": "2025-06-22T05:19:13.423618Z",
     "shell.execute_reply": "2025-06-22T05:19:13.422863Z"
    },
    "papermill": {
     "duration": 0.009719,
     "end_time": "2025-06-22T05:19:13.425093",
     "exception": false,
     "start_time": "2025-06-22T05:19:13.415374",
     "status": "completed"
    },
    "tags": []
   },
   "outputs": [
    {
     "name": "stdout",
     "output_type": "stream",
     "text": [
      "0.9680084157231454\n",
      "0.9735792168402823\n"
     ]
    }
   ],
   "source": [
    "print(ridge_r2)\n",
    "print(lasso_r2)\n"
   ]
  },
  {
   "cell_type": "code",
   "execution_count": 12,
   "id": "dde55a11",
   "metadata": {
    "execution": {
     "iopub.execute_input": "2025-06-22T05:19:13.432655Z",
     "iopub.status.busy": "2025-06-22T05:19:13.432394Z",
     "iopub.status.idle": "2025-06-22T05:19:13.985785Z",
     "shell.execute_reply": "2025-06-22T05:19:13.984953Z"
    },
    "papermill": {
     "duration": 0.559469,
     "end_time": "2025-06-22T05:19:13.987931",
     "exception": false,
     "start_time": "2025-06-22T05:19:13.428462",
     "status": "completed"
    },
    "tags": []
   },
   "outputs": [
    {
     "data": {
      "image/png": "[encoded data removed]",
      "text/plain": [
       "<Figure size 1400x600 with 2 Axes>"
      ]
     },
     "metadata": {},
     "output_type": "display_data"
    }
   ],
   "source": [
    "plt.figure(figsize = (14,6))\n",
    "plt.subplot(1,2,1)\n",
    "plt.scatter(y_test, prediction_result_ridge,alpha =0.7)\n",
    "plt.xlabel('actual weight')\n",
    "plt.ylabel('predicted weight')\n",
    "plt.title(f\"Ridge Regression:(RMSE: {ridge_mean_squared_error:.2f},R Squared Score:{ridge_r2:.2f})\")\n",
    "plt.grid(True)\n",
    "\n",
    "\n",
    "plt.subplot(1,2,2)\n",
    "plt.scatter(y_test, prediction_result_lasso,alpha = 0.7)\n",
    "plt.xlabel(\"actual weight\")\n",
    "plt.ylabel(\"predicted weight\")\n",
    "plt.title(f\"Ridge Regression: (RMSE: {lasso_mean_squared_error:.2f},R squared error:{lasso_r2:.2f})\")\n",
    "plt.grid(True)\n",
    "\n",
    "plt.show()"
   ]
  }
 ],
 "metadata": {
  "kaggle": {
   "accelerator": "none",
   "dataSources": [
    {
     "datasetId": 7708319,
     "sourceId": 12234077,
     "sourceType": "datasetVersion"
    }
   ],
   "isGpuEnabled": false,
   "isInternetEnabled": false,
   "language": "python",
   "sourceType": "notebook"
  },
  "kernelspec": {
   "display_name": "Python 3",
   "language": "python",
   "name": "python3"
  },
  "language_info": {
   "codemirror_mode": {
    "name": "ipython",
    "version": 3
   },
   "file_extension": ".py",
   "mimetype": "text/x-python",
   "name": "python",
   "nbconvert_exporter": "python",
   "pygments_lexer": "ipython3",
   "version": "3.11.11"
  },
  "papermill": {
   "default_parameters": {},
   "duration": 9.729303,
   "end_time": "2025-06-22T05:19:14.611611",
   "environment_variables": {},
   "exception": null,
   "input_path": "__notebook__.ipynb",
   "output_path": "__notebook__.ipynb",
   "parameters": {},
   "start_time": "2025-06-22T05:19:04.882308",
   "version": "2.6.0"
  }
 },
 "nbformat": 4,
 "nbformat_minor": 5
}
